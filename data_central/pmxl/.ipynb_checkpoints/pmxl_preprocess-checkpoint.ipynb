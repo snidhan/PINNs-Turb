{
 "cells": [
  {
   "cell_type": "code",
   "execution_count": 1,
   "id": "1b144e04-d4af-417e-aaef-d29691ea5570",
   "metadata": {},
   "outputs": [],
   "source": [
    "import numpy as np\n",
    "import os\n",
    "import matplotlib.pyplot as plt"
   ]
  },
  {
   "cell_type": "code",
   "execution_count": 2,
   "id": "7e055493-428f-49ab-9a5d-2c5dfe93c521",
   "metadata": {},
   "outputs": [],
   "source": [
    "X = [150, 200, 250, 650, 800, 950]\n",
    "delom = np.loadtxt('delom-ml1.dat')\n",
    "delom_X = np.zeros((6,2))\n",
    "\n",
    "for i in range(0,len(X)):\n",
    "    for j in range(0,len(delom)):\n",
    "        if X[i] == delom[j,0]:\n",
    "            delom_X[i,:] = delom[j,:]\n",
    "\n",
    "delom_X = delom_X*(1e-3)   # Converts delom in meters"
   ]
  },
  {
   "cell_type": "code",
   "execution_count": 3,
   "id": "ca61e090-1529-4a12-8130-b6bd98c84338",
   "metadata": {},
   "outputs": [
    {
     "name": "stdout",
     "output_type": "stream",
     "text": [
      "0150-m1.dat\n",
      "0200-m1.dat\n",
      "0250-m1.dat\n",
      "0650-m1.dat\n",
      "0800-m1.dat\n",
      "0950-m1.dat\n"
     ]
    }
   ],
   "source": [
    "### Loading the mean moments in the array\n",
    "\n",
    "U = np.zeros((41, np.size(X)))\n",
    "V = np.zeros((41, np.size(X)))\n",
    "ygrid = np.zeros((41, np.size(X)))\n",
    "xgrid = np.zeros((41, np.size(X)))\n",
    "DeltaU = (41.50 - 22.41)  # in m/s\n",
    "\n",
    "count = 0\n",
    "for i in X:\n",
    "    filename = '0' + str(i) + '-m1.dat'\n",
    "    print(filename)\n",
    "    data = np.loadtxt(filename)\n",
    "    ygrid[:,count] = data[:,0]*delom_X[count,1]\n",
    "    xgrid[:,count] = i*(1e-3)\n",
    "    U[:,count] = data[:,1]*DeltaU\n",
    "    V[:,count] = data[:,2]*DeltaU\n",
    "    count += 1"
   ]
  },
  {
   "cell_type": "code",
   "execution_count": 4,
   "id": "e5046253-6d09-4102-8c77-bdda38959412",
   "metadata": {},
   "outputs": [
    {
     "name": "stdout",
     "output_type": "stream",
     "text": [
      "0150-m2.dat\n",
      "0200-m2.dat\n",
      "0250-m2.dat\n",
      "0650-m2.dat\n",
      "0800-m2.dat\n",
      "0950-m2.dat\n"
     ]
    }
   ],
   "source": [
    "### Loading the second moments in the array\n",
    "\n",
    "uu = np.zeros((41, np.size(X)))\n",
    "vv = np.zeros((41, np.size(X)))\n",
    "uv = np.zeros((41, np.size(X)))\n",
    "\n",
    "count = 0\n",
    "for i in X:\n",
    "    filename = '0' + str(i) + '-m2.dat'\n",
    "    print(filename)\n",
    "    data = np.loadtxt(filename)\n",
    "    uu[:,count] = data[:,1]*DeltaU*DeltaU\n",
    "    vv[:,count] = data[:,2]*DeltaU*DeltaU\n",
    "    uv[:,count] = data[:,3]*DeltaU*DeltaU\n",
    "    count += 1"
   ]
  },
  {
   "cell_type": "code",
   "execution_count": null,
   "id": "8a8ca565-2f9a-41a1-be90-221e8d4b4c3e",
   "metadata": {},
   "outputs": [
    {
     "data": {
      "text/plain": [
       "[<matplotlib.lines.Line2D at 0x7fb7b7e5f8d0>]"
      ]
     },
     "execution_count": 14,
     "metadata": {},
     "output_type": "execute_result"
    },
    {
     "data": {
      "image/png": "[encoded data removed]",
      "text/plain": [
       "<Figure size 432x288 with 1 Axes>"
      ]
     },
     "metadata": {
      "needs_background": "light"
     },
     "output_type": "display_data"
    }
   ],
   "source": [
    "plt.plot(vv[:,0], ygrid[:,0],'*')\n",
    "plt.plot(vv[:,1], ygrid[:,1],'s')\n",
    "plt.plot(vv[:,2], ygrid[:,2],'o')\n",
    "plt.plot(vv[:,3], ygrid[:,3],'>')\n",
    "plt.plot(vv[:,4], ygrid[:,4],'<')\n",
    "plt.plot(vv[:,4], ygrid[:,4],'^')\n"
   ]
  },
  {
   "cell_type": "code",
   "execution_count": 16,
   "id": "9f93f947-4fd9-41d6-bbf5-0f8168f7de4f",
   "metadata": {},
   "outputs": [
    {
     "data": {
      "text/plain": [
       "[<matplotlib.lines.Line2D at 0x7fb7b7d984a8>]"
      ]
     },
     "execution_count": 16,
     "metadata": {},
     "output_type": "execute_result"
    },
    {
     "data": {
      "image/png": "[encoded data removed]",
      "text/plain": [
       "<Figure size 432x288 with 1 Axes>"
      ]
     },
     "metadata": {
      "needs_background": "light"
     },
     "output_type": "display_data"
    }
   ],
   "source": [
    "plt.plot(ygrid[:,0], U[:,0]/DeltaU,'k-')\n",
    "# plt.plot(ygrid[:,1], U[:,1]/DeltaU,'r-')\n",
    "# plt.plot(ygrid[:,2], U[:,2]/DeltaU,'g-')\n",
    "# plt.plot(ygrid[:,3], U[:,3]/DeltaU,'b-')\n",
    "# plt.plot(ygrid[:,4], U[:,4]/DeltaU,'c-')\n",
    "plt.plot(ygrid[:,5], U[:,5]/DeltaU,'m-')"
   ]
  },
  {
   "cell_type": "code",
   "execution_count": 182,
   "id": "3909bb04-fb93-4909-bf0a-46fa25c3ae86",
   "metadata": {},
   "outputs": [
    {
     "data": {
      "text/plain": [
       "1.17088"
      ]
     },
     "execution_count": 182,
     "metadata": {},
     "output_type": "execute_result"
    }
   ],
   "source": [
    "U[0,4]/DeltaU"
   ]
  },
  {
   "cell_type": "code",
   "execution_count": 17,
   "id": "b246ec82-40fd-42ce-a0b6-8198e4c4b488",
   "metadata": {},
   "outputs": [
    {
     "data": {
      "text/plain": [
       "[<matplotlib.lines.Line2D at 0x7fb7b7ca7c18>,\n",
       " <matplotlib.lines.Line2D at 0x7fb7b7ca7ba8>,\n",
       " <matplotlib.lines.Line2D at 0x7fb7b7ca7cf8>,\n",
       " <matplotlib.lines.Line2D at 0x7fb7b7ca7da0>,\n",
       " <matplotlib.lines.Line2D at 0x7fb7b7ca7e48>,\n",
       " <matplotlib.lines.Line2D at 0x7fb7b7ca7ef0>]"
      ]
     },
     "execution_count": 17,
     "metadata": {},
     "output_type": "execute_result"
    },
    {
     "data": {
      "image/png": "[encoded data removed]",
      "text/plain": [
       "<Figure size 432x288 with 1 Axes>"
      ]
     },
     "metadata": {
      "needs_background": "light"
     },
     "output_type": "display_data"
    }
   ],
   "source": [
    "plt.plot(xgrid, ygrid, 'ks')"
   ]
  },
  {
   "cell_type": "code",
   "execution_count": 184,
   "id": "c7437e41-c1bc-4ab0-a77a-6cb076cd3ee9",
   "metadata": {},
   "outputs": [
    {
     "data": {
      "text/plain": [
       "array([0.15, 0.2 , 0.25, 0.65, 0.8 , 0.95])"
      ]
     },
     "execution_count": 184,
     "metadata": {},
     "output_type": "execute_result"
    }
   ],
   "source": [
    "xgrid[0,:]"
   ]
  },
  {
   "cell_type": "code",
   "execution_count": 185,
   "id": "154302b7-8d01-4ccd-87c3-94d058aa8777",
   "metadata": {},
   "outputs": [],
   "source": [
    "np.savez('../moments_pmxl.npz', U=U, V=V, uu=uu, uv=uv, vv=vv)\n",
    "np.savez('../grid_pmxl.npz',    X=xgrid, Y=ygrid)"
   ]
  },
  {
   "cell_type": "code",
   "execution_count": 195,
   "id": "06fe27eb-6405-4c63-b6f9-381cc7654260",
   "metadata": {},
   "outputs": [
    {
     "data": {
      "text/plain": [
       "-0.05444670105"
      ]
     },
     "execution_count": 195,
     "metadata": {},
     "output_type": "execute_result"
    }
   ],
   "source": [
    "ygrid[0,-1]"
   ]
  }
 ],
 "metadata": {
  "kernelspec": {
   "display_name": "Python 3",
   "language": "python",
   "name": "python3"
  },
  "language_info": {
   "codemirror_mode": {
    "name": "ipython",
    "version": 3
   },
   "file_extension": ".py",
   "mimetype": "text/x-python",
   "name": "python",
   "nbconvert_exporter": "python",
   "pygments_lexer": "ipython3",
   "version": "3.6.13"
  }
 },
 "nbformat": 4,
 "nbformat_minor": 5
}
