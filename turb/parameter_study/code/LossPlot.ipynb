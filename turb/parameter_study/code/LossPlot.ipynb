{
 "cells": [
  {
   "cell_type": "code",
   "execution_count": 5,
   "id": "8eb37ff6-84b6-4a37-8cd9-406005fbdb5d",
   "metadata": {},
   "outputs": [],
   "source": [
    "import deepxde as dde\n",
    "import numpy as np\n",
    "import torch\n",
    "import scipy\n",
    "import h5py\n",
    "from scipy import interpolate\n",
    "import matplotlib.pyplot as plt\n",
    "import scipy.io\n",
    "import seaborn as sns\n",
    "from scipy.spatial import KDTree\n",
    "import tensorflow.compat.v1 as tf\n",
    "from mpl_toolkits.axes_grid1 import make_axes_locatable\n",
    "import matplotlib.gridspec as gridspec\n",
    "import os\n",
    "from pde import *\n",
    "from data_anchor import *\n",
    "from xde import call_xde\n",
    "import numpy as np\n",
    "import sys\n",
    "from multiprocessing import Process\n",
    "plt.rc('font',**{'family':'serif','serif':['Times']})\n",
    "plt.rc('mathtext', fontset='stix')\n",
    "plt.rc('text', usetex=True)"
   ]
  },
  {
   "cell_type": "code",
   "execution_count": 6,
   "id": "bc670654-18e4-4075-881d-3686063cfbe5",
   "metadata": {},
   "outputs": [],
   "source": [
    "def p2s(p,sym): #param to string\n",
    "    return sym.join(str(e) for e in p)"
   ]
  },
  {
   "cell_type": "code",
   "execution_count": 7,
   "id": "d0122b35-9cac-4ef0-bbe6-e57d16306e78",
   "metadata": {},
   "outputs": [],
   "source": [
    "inp = np.loadtxt('inp')\n",
    "\n",
    "if inp.ndim == 1:\n",
    "     inp = np.reshape(inp,(1,inp.shape[0]))\n",
    "\n",
    "act = {1:\"tanh\", 2:\"relu\"}\n",
    "\n",
    "lr, lyr, wid, actv, epch, n, lossw, nxm, nym, alpha, beta = inp.T\n",
    "\n",
    "lr    = np.reshape(lr,   (len(lr),1))\n",
    "lyr   = np.reshape(lyr,  (len(lr),1))\n",
    "wid   = np.reshape(wid,  (len(lr),1))\n",
    "actv  = np.reshape(actv, (len(lr),1))\n",
    "epch  = np.reshape(epch, (len(lr),1))\n",
    "n     = np.reshape(n,    (len(lr),1))\n",
    "lossw = np.reshape(lossw,(len(lr),1))\n",
    "nxm   = np.reshape(nxm,  (len(lr),1))\n",
    "nym   = np.reshape(nym,  (len(lr),1))\n",
    "alpha = np.reshape(alpha,(len(lr),1))\n",
    "beta  = np.reshape(beta, (len(lr),1))\n",
    "\n",
    "Re       = 800\n",
    "ndim     = 2\n",
    "nvar     = 6\n",
    "Re_ar    = Re*np.ones((len(lr),1))\n",
    "ndim_ar  = ndim*np.ones((len(lr),1))\n",
    "nvar_ar  = nvar*np.ones((len(lr),1))\n",
    "\n",
    "# nn_params   = [lr, int(lyr), int(wid), act[actv]]\n",
    "data_params = np.hstack((Re_ar, nxm, nym, alpha, beta))         # All set of runs in data_params\n",
    "xde_params  = np.hstack((ndim_ar, nvar_ar, (epch), (n), lossw)) # All set of runs in xde_params\n",
    "\n",
    "xde_fix       = 0        # Fixing index for varying data_params plots\n",
    "data_fix      = 0        # Fixing index for varying xde_params plots\n",
    "idx_plot      = np.linspace(4,20,20-4+1).astype(int)  # Indices to sum over for loss plots\n",
    "\n",
    "fold = 'Plots'\n",
    "isExist = os.path.exists('./' + fold)\n",
    "if not isExist:\n",
    "    os.makedirs('./' + fold)"
   ]
  },
  {
   "cell_type": "code",
   "execution_count": 26,
   "id": "ce71ad15-1f3d-4c7f-b956-6aa1057f0443",
   "metadata": {},
   "outputs": [
    {
     "name": "stdout",
     "output_type": "stream",
     "text": [
      "Reading folder  2_6_3000_30_100.0___800_2_64_4.0_0.5\n",
      "Reading folder  2_6_30000_50_100.0___800_2_64_4.0_0.5\n",
      "Reading folder  2_6_50000_30_100.0___800_2_64_4.0_0.5\n",
      "Reading folder  2_6_20000_30_100.0___800_2_64_4.0_0.5\n",
      "Reading folder  2_6_10000_70_100.0___800_2_64_4.0_0.5\n",
      "Reading folder  2_6_10000_30_100.0___800_2_64_4.0_0.5\n"
     ]
    }
   ],
   "source": [
    "## Plotting variation as changes in xde_params\n",
    "# Fixing data_params at one set of values\n",
    "dp_temp   = data_params[data_fix,:]\n",
    "dp_temp   = [int(dp_temp[0]), int(dp_temp[1]), int(dp_temp[2]), dp_temp[3], dp_temp[4]]\n",
    "\n",
    "fig, axs = plt.subplots(1, 2, figsize=(14,7), dpi=600)\n",
    "gsp = gridspec.GridSpec(1,1)\n",
    "\n",
    "for i in range(0,np.size(xde_params,0)):\n",
    "    \n",
    "    xde_temp  = xde_params[i,:]\n",
    "    xde_temp  = [int(xde_temp[0]), int(xde_temp[1]), int(xde_temp[2]), int(xde_temp[3]), xde_temp[4]]\n",
    "\n",
    "    fold_name = p2s(xde_temp,'_') +'___'+ p2s(dp_temp,'_')\n",
    "    print('Reading folder ', fold_name)\n",
    "    loss = np.loadtxt(fold_name +'/loss.dat')\n",
    "    axs[0].loglog(loss[:,0], np.sum(loss[:,1:4],1), '--',linewidth=1,label=str(xde_temp)) # Training Residual Losses\n",
    "    axs[1].loglog(loss[:,0], np.sum(loss[:,idx_plot],1), '--',linewidth=1,label=str(xde_temp)) # Training Residual Losses\n",
    "    \n",
    "axs[1].legend(); axs[0].legend()\n",
    "axs[1].grid(); axs[0].grid()\n",
    "axs[0].set_ylabel('Residual Loss', rotation=90, labelpad=0,fontsize=12)\n",
    "axs[1].set_ylabel('BC+Anchors Loss', rotation=90, labelpad=0,fontsize=12)\n",
    "plt.savefig('./' + 'unique_losses.png', bbox_inches='tight', pad_inches=0.04, dpi=600)\n",
    "plt.close()"
   ]
  },
  {
   "cell_type": "code",
   "execution_count": 28,
   "id": "1c70e5b7-2382-4025-a0ee-2c838650da3c",
   "metadata": {},
   "outputs": [
    {
     "data": {
      "text/plain": [
       "array([    0.,  1000.,  2000.,  3000.,  4000.,  5000.,  6000.,  7000.,\n",
       "        8000.,  9000., 10000.])"
      ]
     },
     "execution_count": 28,
     "metadata": {},
     "output_type": "execute_result"
    }
   ],
   "source": [
    "loss[:,0]"
   ]
  },
  {
   "cell_type": "code",
   "execution_count": 13,
   "id": "0040306f-be4a-42c9-9780-d2b32d4e9809",
   "metadata": {},
   "outputs": [
    {
     "ename": "AttributeError",
     "evalue": "module 'matplotlib.pyplot' has no attribute 'sublots'",
     "output_type": "error",
     "traceback": [
      "\u001b[0;31m---------------------------------------------------------------------------\u001b[0m",
      "\u001b[0;31mAttributeError\u001b[0m                            Traceback (most recent call last)",
      "\u001b[0;32m<ipython-input-13-ce974bd33d67>\u001b[0m in \u001b[0;36m<module>\u001b[0;34m\u001b[0m\n\u001b[1;32m      2\u001b[0m \u001b[0mxde_temp\u001b[0m   \u001b[0;34m=\u001b[0m \u001b[0;34m[\u001b[0m\u001b[0mint\u001b[0m\u001b[0;34m(\u001b[0m\u001b[0mxde_temp\u001b[0m\u001b[0;34m[\u001b[0m\u001b[0;36m0\u001b[0m\u001b[0;34m]\u001b[0m\u001b[0;34m)\u001b[0m\u001b[0;34m,\u001b[0m \u001b[0mint\u001b[0m\u001b[0;34m(\u001b[0m\u001b[0mxde_temp\u001b[0m\u001b[0;34m[\u001b[0m\u001b[0;36m1\u001b[0m\u001b[0;34m]\u001b[0m\u001b[0;34m)\u001b[0m\u001b[0;34m,\u001b[0m \u001b[0mint\u001b[0m\u001b[0;34m(\u001b[0m\u001b[0mxde_temp\u001b[0m\u001b[0;34m[\u001b[0m\u001b[0;36m2\u001b[0m\u001b[0;34m]\u001b[0m\u001b[0;34m)\u001b[0m\u001b[0;34m,\u001b[0m \u001b[0mint\u001b[0m\u001b[0;34m(\u001b[0m\u001b[0mxde_temp\u001b[0m\u001b[0;34m[\u001b[0m\u001b[0;36m3\u001b[0m\u001b[0;34m]\u001b[0m\u001b[0;34m)\u001b[0m\u001b[0;34m,\u001b[0m \u001b[0mxde_temp\u001b[0m\u001b[0;34m[\u001b[0m\u001b[0;36m4\u001b[0m\u001b[0;34m]\u001b[0m\u001b[0;34m]\u001b[0m\u001b[0;34m\u001b[0m\u001b[0;34m\u001b[0m\u001b[0m\n\u001b[1;32m      3\u001b[0m \u001b[0;34m\u001b[0m\u001b[0m\n\u001b[0;32m----> 4\u001b[0;31m \u001b[0mfig\u001b[0m \u001b[0;34m=\u001b[0m \u001b[0mplt\u001b[0m\u001b[0;34m.\u001b[0m\u001b[0msublots\u001b[0m\u001b[0;34m(\u001b[0m\u001b[0mfigsize\u001b[0m\u001b[0;34m=\u001b[0m\u001b[0;34m(\u001b[0m\u001b[0;36m5\u001b[0m\u001b[0;34m,\u001b[0m\u001b[0;36m5\u001b[0m\u001b[0;34m)\u001b[0m\u001b[0;34m,\u001b[0m \u001b[0mdpi\u001b[0m\u001b[0;34m=\u001b[0m\u001b[0;36m600\u001b[0m\u001b[0;34m)\u001b[0m\u001b[0;34m\u001b[0m\u001b[0;34m\u001b[0m\u001b[0m\n\u001b[0m\u001b[1;32m      5\u001b[0m \u001b[0mgsp\u001b[0m \u001b[0;34m=\u001b[0m \u001b[0mgridspec\u001b[0m\u001b[0;34m.\u001b[0m\u001b[0mGridSpec\u001b[0m\u001b[0;34m(\u001b[0m\u001b[0;36m1\u001b[0m\u001b[0;34m,\u001b[0m\u001b[0;36m1\u001b[0m\u001b[0;34m)\u001b[0m\u001b[0;34m\u001b[0m\u001b[0;34m\u001b[0m\u001b[0m\n\u001b[1;32m      6\u001b[0m \u001b[0;34m\u001b[0m\u001b[0m\n",
      "\u001b[0;31mAttributeError\u001b[0m: module 'matplotlib.pyplot' has no attribute 'sublots'"
     ]
    }
   ],
   "source": [
    "xde_temp   = xde_params[xde_fix,:]\n",
    "xde_temp   = [int(xde_temp[0]), int(xde_temp[1]), int(xde_temp[2]), int(xde_temp[3]), xde_temp[4]]\n",
    "\n",
    "fig = plt.subplots(figsize=(5,5), dpi=600)\n",
    "gsp = gridspec.GridSpec(1,1)\n",
    "\n",
    "for i in range(0,np.size(data_params,0)):\n",
    "\n",
    "    dp_temp  = data_params[i,:]\n",
    "    dp_temp    = [int(dp_temp[0]), int(dp_temp[1]), int(dp_temp[2]), dp_temp[3], dp_temp[4]]\n",
    "\n",
    "    fold_name = p2s(xde_temp,'_') +'___'+ p2s(dp_temp,'_')\n",
    "    print('Reading folder ', fold_name)\n",
    "    loss = np.loadtxt(fold_name +'/loss.dat')\n",
    "    plt.loglog(loss[:,0], np.sum(loss[:,idx_plot],1), '--',linewidth=1,label=str(dp_temp))\n",
    "\n",
    "plt.legend()\n",
    "plt.grid()\n",
    "plt.ylabel(r'Loss', rotation=90, labelpad=0,fontsize=12)\n",
    "plt.savefig('./' + fold + '/Loss' + '_data_params.png', bbox_inches='tight', pad_inches=0.04, dpi=600)\n",
    "plt.close()"
   ]
  }
 ],
 "metadata": {
  "kernelspec": {
   "display_name": "Python 3",
   "language": "python",
   "name": "python3"
  },
  "language_info": {
   "codemirror_mode": {
    "name": "ipython",
    "version": 3
   },
   "file_extension": ".py",
   "mimetype": "text/x-python",
   "name": "python",
   "nbconvert_exporter": "python",
   "pygments_lexer": "ipython3",
   "version": "3.6.13"
  }
 },
 "nbformat": 4,
 "nbformat_minor": 5
}
